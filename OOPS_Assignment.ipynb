{
  "nbformat": 4,
  "nbformat_minor": 0,
  "metadata": {
    "colab": {
      "provenance": [],
      "authorship_tag": "ABX9TyNIfG+4tRuEq6JHBr1ynBgJ",
      "include_colab_link": true
    },
    "kernelspec": {
      "name": "python3",
      "display_name": "Python 3"
    },
    "language_info": {
      "name": "python"
    }
  },
  "cells": [
    {
      "cell_type": "markdown",
      "metadata": {
        "id": "view-in-github",
        "colab_type": "text"
      },
      "source": [
        "<a href=\"https://colab.research.google.com/github/Manishkancharla/Python_OOPS_Assignment/blob/main/OOPS_Assignment.ipynb\" target=\"_parent\"><img src=\"https://colab.research.google.com/assets/colab-badge.svg\" alt=\"Open In Colab\"/></a>"
      ]
    },
    {
      "cell_type": "markdown",
      "source": [
        "1)  What are the five key concepts of Object-Oriented Programming (OOP)?\n",
        "\n",
        "\n"
      ],
      "metadata": {
        "id": "Fx3E19m5jZA3"
      }
    },
    {
      "cell_type": "code",
      "source": [
        "# Encapsulation: In Python, encapsulation is achieved by defining class attributes and methods.Private members are indicated by a leading underscore (_) or double underscore (__), though Python relies on naming conventions rather than strict enforcement.\n",
        "class Person:\n",
        "    def __init__(self, name, age):\n",
        "        self.__name = name  # private attribute\n",
        "        self.__age = age\n",
        "\n",
        "    def get_info(self):\n",
        "        return f\"{self.__name} is {self.__age} years old.\"\n"
      ],
      "metadata": {
        "id": "RRZWLMzMjszT"
      },
      "execution_count": 1,
      "outputs": []
    },
    {
      "cell_type": "code",
      "source": [
        "# Abstraction: Abstraction in Python is implemented using abstract base classes and interfaces provided by the abc module. Abstract methods are declared but not implemented in the base class.\n",
        "from abc import ABC, abstractmethod\n",
        "\n",
        "class Animal(ABC):\n",
        "    @abstractmethod\n",
        "    def make_sound(self):\n",
        "        pass\n"
      ],
      "metadata": {
        "id": "9hJk0ZddjwhD"
      },
      "execution_count": 2,
      "outputs": []
    },
    {
      "cell_type": "code",
      "source": [
        "# Inheritance: Inheritance allows one class to inherit attributes and methods from another class. Use the syntax class Subclass(ParentClass). Python Copy code.\n",
        "class Dog(Animal):\n",
        "    def make_sound(self):\n",
        "        return \"Bark\"\n",
        "\n"
      ],
      "metadata": {
        "id": "wI6FHWepjwJd"
      },
      "execution_count": 3,
      "outputs": []
    },
    {
      "cell_type": "code",
      "source": [
        "# Polymorphism: Python supports polymorphism through method overriding and operator overloading. Methods with the same name can behave differently in derived classes.\n",
        "class Cat(Animal):\n",
        "    def make_sound(self):\n",
        "        return \"Meow\"\n",
        "\n",
        "def animal_sound(animal):\n",
        "    print(animal.make_sound())\n",
        "\n",
        "animal_sound(Dog())\n",
        "animal_sound(Cat())\n"
      ],
      "metadata": {
        "colab": {
          "base_uri": "https://localhost:8080/"
        },
        "id": "lNgqEMhwjwBc",
        "outputId": "eebe0a69-c8d6-4bea-ce9b-0dbf855326d7"
      },
      "execution_count": 4,
      "outputs": [
        {
          "output_type": "stream",
          "name": "stdout",
          "text": [
            "Bark\n",
            "Meow\n"
          ]
        }
      ]
    },
    {
      "cell_type": "code",
      "source": [
        "# Classes and Objects: A class defines a blueprint for creating objects. An object is an instance of a class with its own data and methods.\n",
        "class Car:\n",
        "    def __init__(self, brand, model):\n",
        "        self.brand = brand\n",
        "        self.model = model\n",
        "\n",
        "    def display(self):\n",
        "        print(f\"Car: {self.brand} {self.model}\")\n",
        "\n",
        "my_car = Car(\"Toyota\", \"Corolla\")\n",
        "my_car.display()\n"
      ],
      "metadata": {
        "colab": {
          "base_uri": "https://localhost:8080/"
        },
        "id": "y3NT-oGZjv4H",
        "outputId": "1cd96130-079f-4a56-b236-44726f70130f"
      },
      "execution_count": 5,
      "outputs": [
        {
          "output_type": "stream",
          "name": "stdout",
          "text": [
            "Car: Toyota Corolla\n"
          ]
        }
      ]
    },
    {
      "cell_type": "markdown",
      "source": [
        "2) Write a Python class for a `Car` with attributes for `make`, `model`, and `year`. Include a method to display\n",
        "the car's information.\n",
        "\n",
        "\n"
      ],
      "metadata": {
        "id": "1DSFnxU9lB1V"
      }
    },
    {
      "cell_type": "code",
      "source": [
        "class Car:\n",
        "    def __init__(self, make, model, year):\n",
        "        self.make = make\n",
        "        self.model = model\n",
        "        self.year = year\n",
        "\n",
        "    def display_info(self):\n",
        "        print(f\"Car Info: {self.year} {self.make} {self.model}\")\n",
        "\n",
        "# Example usage:\n",
        "my_car = Car(\"Toyota\", \"Corolla\", 2022)\n",
        "my_car.display_info()\n"
      ],
      "metadata": {
        "colab": {
          "base_uri": "https://localhost:8080/"
        },
        "id": "fZ9WrnbhlOUu",
        "outputId": "f7f8bc2e-29e4-4ffb-c0c3-9aed136540ee"
      },
      "execution_count": 6,
      "outputs": [
        {
          "output_type": "stream",
          "name": "stdout",
          "text": [
            "Car Info: 2022 Toyota Corolla\n"
          ]
        }
      ]
    },
    {
      "cell_type": "markdown",
      "source": [
        "3)  Explain the difference between instance methods and class methods. Provide an example of each?"
      ],
      "metadata": {
        "id": "fLCAguq3lUDz"
      }
    },
    {
      "cell_type": "code",
      "source": [
        "# Instance Methods:\n",
        "# Definition: Methods that operate on instances of a class.\n",
        "# Access: They can access and modify instance-specific data (attributes).\n",
        "# Decorator: No special decorator is required.\n",
        "# Self Parameter: They use self as the first parameter, referencing the instance.\n",
        "class Person:\n",
        "    def __init__(self, name, age):\n",
        "        self.name = name\n",
        "        self.age = age\n",
        "\n",
        "    # Instance method\n",
        "    def greet(self):\n",
        "        print(f\"Hello, my name is {self.name} and I am {self.age} years old.\")\n",
        "\n",
        "# Example usage:\n",
        "p = Person(\"Alice\", 30)\n",
        "p.greet()  # Output: Hello, my name is Alice and I am 30 years old.\n"
      ],
      "metadata": {
        "colab": {
          "base_uri": "https://localhost:8080/"
        },
        "id": "dM7rhleblkFD",
        "outputId": "8a0f8c0e-6c62-4679-80a2-aff3af5e2419"
      },
      "execution_count": 7,
      "outputs": [
        {
          "output_type": "stream",
          "name": "stdout",
          "text": [
            "Hello, my name is Alice and I am 30 years old.\n"
          ]
        }
      ]
    },
    {
      "cell_type": "code",
      "source": [
        "# Class Methods:\n",
        "# Definition: Methods that operate on the class itself, not specific instances.\n",
        "# Access: They can access and modify class-level data (attributes shared by all instances).\n",
        "# Decorator: Use @classmethod.\n",
        "# Cls Parameter: They use cls as the first parameter, referencing the class.\n",
        "class Person:\n",
        "    population = 0  # Class attribute\n",
        "\n",
        "    def __init__(self, name, age):\n",
        "        self.name = name\n",
        "        self.age = age\n",
        "        Person.population += 1\n",
        "\n",
        "    # Class method\n",
        "    @classmethod\n",
        "    def get_population(cls):\n",
        "        print(f\"Current population: {cls.population}\")\n",
        "\n",
        "# Example usage:\n",
        "p1 = Person(\"Alice\", 30)\n",
        "p2 = Person(\"Bob\", 25)\n",
        "\n",
        "Person.get_population()  # Output: Current population: 2\n"
      ],
      "metadata": {
        "colab": {
          "base_uri": "https://localhost:8080/"
        },
        "id": "Xws9V4e3lkYw",
        "outputId": "b28d7780-5f47-43a9-db78-21f1833695da"
      },
      "execution_count": 8,
      "outputs": [
        {
          "output_type": "stream",
          "name": "stdout",
          "text": [
            "Current population: 2\n"
          ]
        }
      ]
    },
    {
      "cell_type": "markdown",
      "source": [
        "4) How does Python implement method overloading? Give an example?"
      ],
      "metadata": {
        "id": "kZ6T428GmFK9"
      }
    },
    {
      "cell_type": "code",
      "source": [
        "# Method Overloading in Python :- Python does not support method overloading in the traditional sense, as found in languages like Java or C++. In Python, if multiple methods with the same name are defined in a class, the last method definition overrides the previous ones. How Python Handles Method Overloading Instead of true method overloading, Python achieves similar behavior using: Default Arguments Variable-Length Arguments (*args and **kwargs) Type Checking (isinstance).\n",
        "class Calculator:\n",
        "    def add(self, a, b=0, c=0):\n",
        "        return a + b + c\n",
        "\n",
        "# Example usage:\n",
        "calc = Calculator()\n",
        "print(calc.add(5))            # Uses one argument\n",
        "print(calc.add(5, 10))        # Uses two arguments\n",
        "print(calc.add(5, 10, 15))    # Uses three arguments\n"
      ],
      "metadata": {
        "colab": {
          "base_uri": "https://localhost:8080/"
        },
        "id": "7HVcr8qzmRnq",
        "outputId": "042dca77-8f26-495d-e533-0f8e77462fa8"
      },
      "execution_count": 9,
      "outputs": [
        {
          "output_type": "stream",
          "name": "stdout",
          "text": [
            "5\n",
            "15\n",
            "30\n"
          ]
        }
      ]
    },
    {
      "cell_type": "markdown",
      "source": [
        "5)  What are the three types of access modifiers in Python? How are they denoted?"
      ],
      "metadata": {
        "id": "YyUYVBZnmuhe"
      }
    },
    {
      "cell_type": "markdown",
      "source": [
        "Three Types of Access Modifiers in Python\n",
        "In Python, access modifiers determine the visibility and accessibility of class members (attributes and methods). While Python doesn't have strict access modifiers like other languages, it uses naming conventions to indicate access levels:"
      ],
      "metadata": {
        "id": "S9JJ2M5Mm-D3"
      }
    },
    {
      "cell_type": "code",
      "source": [
        "# i) Public :-\n",
        "# Denotation: No special prefix (default).\n",
        "# Accessibility: Can be accessed from anywhere (inside or outside the class).\n",
        "class MyClass:\n",
        "    def __init__(self):\n",
        "        self.name = \"Public Attribute\"  # Public attribute\n",
        "\n",
        "    def public_method(self):\n",
        "        print(\"This is a public method.\")\n",
        "\n",
        "# Example usage:\n",
        "obj = MyClass()\n",
        "print(obj.name)  # Accessible\n",
        "obj.public_method()  # Accessible\n",
        "\n"
      ],
      "metadata": {
        "colab": {
          "base_uri": "https://localhost:8080/"
        },
        "id": "hFZHF1ZTm75m",
        "outputId": "af7ef79b-78cd-4589-8bc3-f1a40830d1f2"
      },
      "execution_count": 10,
      "outputs": [
        {
          "output_type": "stream",
          "name": "stdout",
          "text": [
            "Public Attribute\n",
            "This is a public method.\n"
          ]
        }
      ]
    },
    {
      "cell_type": "code",
      "source": [
        "# ii) Protected :-\n",
        "# Denotation: Prefix with a single underscore _.\n",
        "# Accessibility: Intended for internal use within the class and subclasses but still accessible from outside (not strictly enforced).\n",
        "class MyClass:\n",
        "    def __init__(self):\n",
        "        self._protected_attr = \"Protected Attribute\"  # Protected attribute\n",
        "\n",
        "    def _protected_method(self):\n",
        "        print(\"This is a protected method.\")\n",
        "\n",
        "# Example usage:\n",
        "obj = MyClass()\n",
        "print(obj._protected_attr)  # Accessible but not recommended\n",
        "obj._protected_method()  # Accessible but not recommended\n"
      ],
      "metadata": {
        "colab": {
          "base_uri": "https://localhost:8080/"
        },
        "id": "cwFgVn7Rm8QC",
        "outputId": "9c44e5f4-fa1c-4efd-c618-ac9d0916e77c"
      },
      "execution_count": 11,
      "outputs": [
        {
          "output_type": "stream",
          "name": "stdout",
          "text": [
            "Protected Attribute\n",
            "This is a protected method.\n"
          ]
        }
      ]
    },
    {
      "cell_type": "code",
      "source": [
        "# iii) Private\n",
        "# Denotation: Prefix with a double underscore __.\n",
        "# Accessibility: Only accessible within the class. Name mangling prevents direct access from outside.\n",
        "class MyClass:\n",
        "    def __init__(self):\n",
        "        self.__private_attr = \"Private Attribute\"  # Private attribute\n",
        "\n",
        "    def __private_method(self):\n",
        "        print(\"This is a private method.\")\n",
        "\n",
        "    def access_private(self):\n",
        "        print(self.__private_attr)\n",
        "        self.__private_method()\n",
        "\n",
        "# Example usage:\n",
        "obj = MyClass()\n",
        "# print(obj.__private_attr)  # This will raise an AttributeError\n",
        "# obj.__private_method()     # This will raise an AttributeError\n",
        "\n",
        "obj.access_private()  # Correct way to access private members\n"
      ],
      "metadata": {
        "colab": {
          "base_uri": "https://localhost:8080/"
        },
        "id": "-jg6FG5Am8Hg",
        "outputId": "90dc4c4e-ecdb-4093-d54f-fa3ba077a48c"
      },
      "execution_count": 12,
      "outputs": [
        {
          "output_type": "stream",
          "name": "stdout",
          "text": [
            "Private Attribute\n",
            "This is a private method.\n"
          ]
        }
      ]
    },
    {
      "cell_type": "markdown",
      "source": [
        "6) Describe the five types of inheritance in Python. Provide a simple example of multiple inheritance?"
      ],
      "metadata": {
        "id": "HgHdShgknqg4"
      }
    },
    {
      "cell_type": "markdown",
      "source": [
        "Five Types of Inheritance in Python\n",
        "Inheritance in Python allows one class to derive or inherit properties and behaviors from another class. The five types of inheritance are:"
      ],
      "metadata": {
        "id": "qWMQwHjhn-DD"
      }
    },
    {
      "cell_type": "code",
      "source": [
        "# Single Inheritance : A child class inherits from one parent class.\n",
        "class Parent:\n",
        "    def display(self):\n",
        "        print(\"This is the parent class.\")\n",
        "\n",
        "class Child(Parent):\n",
        "    pass\n",
        "\n",
        "obj = Child()\n",
        "obj.display()  # Output: This is the parent class.\n"
      ],
      "metadata": {
        "colab": {
          "base_uri": "https://localhost:8080/"
        },
        "id": "p2nO3x3Rn8Q0",
        "outputId": "b8010381-a0da-49f1-9589-440a9c93d581"
      },
      "execution_count": 13,
      "outputs": [
        {
          "output_type": "stream",
          "name": "stdout",
          "text": [
            "This is the parent class.\n"
          ]
        }
      ]
    },
    {
      "cell_type": "code",
      "source": [
        "# Multiple Inheritance : A child class inherits from more than one parent class.\n",
        "class Parent1:\n",
        "    def feature1(self):\n",
        "        print(\"Feature 1 from Parent1.\")\n",
        "\n",
        "class Parent2:\n",
        "    def feature2(self):\n",
        "        print(\"Feature 2 from Parent2.\")\n",
        "\n",
        "class Child(Parent1, Parent2):\n",
        "    def feature3(self):\n",
        "        print(\"Feature 3 from Child.\")\n",
        "\n",
        "# Example usage:\n",
        "obj = Child()\n",
        "obj.feature1()  # Output: Feature 1 from Parent1.\n",
        "obj.feature2()  # Output: Feature 2 from Parent2.\n",
        "obj.feature3()  # Output: Feature 3 from Child.\n"
      ],
      "metadata": {
        "colab": {
          "base_uri": "https://localhost:8080/"
        },
        "id": "yshcAJ7On8wS",
        "outputId": "1808c7b4-dd91-43c1-f41f-59008ffa604d"
      },
      "execution_count": 14,
      "outputs": [
        {
          "output_type": "stream",
          "name": "stdout",
          "text": [
            "Feature 1 from Parent1.\n",
            "Feature 2 from Parent2.\n",
            "Feature 3 from Child.\n"
          ]
        }
      ]
    },
    {
      "cell_type": "code",
      "source": [
        "# Multilevel Inheritance : A child class inherits from a parent class, and another child class inherits from that child class.\n",
        "class Grandparent:\n",
        "    def display_grandparent(self):\n",
        "        print(\"Grandparent class.\")\n",
        "\n",
        "class Parent(Grandparent):\n",
        "    def display_parent(self):\n",
        "        print(\"Parent class.\")\n",
        "\n",
        "class Child(Parent):\n",
        "    def display_child(self):\n",
        "        print(\"Child class.\")\n",
        "\n",
        "obj = Child()\n",
        "obj.display_grandparent()  # Output: Grandparent class.\n",
        "obj.display_parent()       # Output: Parent class.\n",
        "obj.display_child()        # Output: Child class.\n"
      ],
      "metadata": {
        "colab": {
          "base_uri": "https://localhost:8080/"
        },
        "id": "KDSYAslBn8oS",
        "outputId": "f384289d-39c1-48da-ddf6-cc93422ec46f"
      },
      "execution_count": 15,
      "outputs": [
        {
          "output_type": "stream",
          "name": "stdout",
          "text": [
            "Grandparent class.\n",
            "Parent class.\n",
            "Child class.\n"
          ]
        }
      ]
    },
    {
      "cell_type": "code",
      "source": [
        "# Hierarchical Inheritance : Multiple child classes inherit from a single parent class.\n",
        "class Parent:\n",
        "    def greet(self):\n",
        "        print(\"Hello from Parent.\")\n",
        "\n",
        "class Child1(Parent):\n",
        "    pass\n",
        "\n",
        "class Child2(Parent):\n",
        "    pass\n",
        "\n",
        "obj1 = Child1()\n",
        "obj2 = Child2()\n",
        "obj1.greet()  # Output: Hello from Parent.\n",
        "obj2.greet()  # Output: Hello from Parent.\n"
      ],
      "metadata": {
        "colab": {
          "base_uri": "https://localhost:8080/"
        },
        "id": "SqXFYvWVn8gz",
        "outputId": "7337c91c-84e5-4c1c-cca0-76b38f796396"
      },
      "execution_count": 16,
      "outputs": [
        {
          "output_type": "stream",
          "name": "stdout",
          "text": [
            "Hello from Parent.\n",
            "Hello from Parent.\n"
          ]
        }
      ]
    },
    {
      "cell_type": "code",
      "source": [
        "# Hybrid Inheritance : A combination of more than one type of inheritance. This can involve a mix of single, multiple, and multilevel inheritance structures.\n",
        "class Base:\n",
        "    def base_method(self):\n",
        "        print(\"Base class method.\")\n",
        "\n",
        "class Parent1(Base):\n",
        "    def parent1_method(self):\n",
        "        print(\"Parent1 method.\")\n",
        "\n",
        "class Parent2(Base):\n",
        "    def parent2_method(self):\n",
        "        print(\"Parent2 method.\")\n",
        "\n",
        "class Child(Parent1, Parent2):\n",
        "    def child_method(self):\n",
        "        print(\"Child method.\")\n",
        "\n",
        "# Example usage:\n",
        "obj = Child()\n",
        "obj.base_method()     # Output: Base class method.\n",
        "obj.parent1_method()  # Output: Parent1 method.\n",
        "obj.parent2_method()  # Output: Parent2 method.\n",
        "obj.child_method()    # Output: Child method.\n"
      ],
      "metadata": {
        "colab": {
          "base_uri": "https://localhost:8080/"
        },
        "id": "uGBK8vern8YB",
        "outputId": "0e8308ee-1db1-47c4-e386-956b80fcb7b3"
      },
      "execution_count": 17,
      "outputs": [
        {
          "output_type": "stream",
          "name": "stdout",
          "text": [
            "Base class method.\n",
            "Parent1 method.\n",
            "Parent2 method.\n",
            "Child method.\n"
          ]
        }
      ]
    },
    {
      "cell_type": "markdown",
      "source": [
        "7) What is the Method Resolution Order (MRO) in Python? How can you retrieve it programmatically?"
      ],
      "metadata": {
        "id": "DlmrfeW6oz9O"
      }
    },
    {
      "cell_type": "code",
      "source": [
        "# Method Resolution Order (MRO) in Python :-\n",
        "# The Method Resolution Order (MRO) in Python defines the order in which methods are looked up in a class hierarchy when they are called. It determines the path that Python follows to resolve method or attribute access in multiple and hybrid inheritance scenarios.\n",
        "# How MRO Works:\n",
        "# Python follows the C3 linearization (also called the C3 superclass linearization) algorithm to determine the method resolution path.\n",
        "# The MRO ensures that:\n",
        "# A child class is checked before its parents.\n",
        "# If multiple parents exist, the order is based on how they are defined in the class declaration.\n",
        "# A class is checked only once in the resolution path.\n",
        "class A:\n",
        "    def show(self):\n",
        "        print(\"Class A\")\n",
        "\n",
        "class B(A):\n",
        "    def show(self):\n",
        "        print(\"Class B\")\n",
        "\n",
        "class C(A):\n",
        "    def show(self):\n",
        "        print(\"Class C\")\n",
        "\n",
        "class D(B, C):\n",
        "    pass\n",
        "\n",
        "# Create an instance of class D\n",
        "obj = D()\n",
        "obj.show()  # Output: Class B\n"
      ],
      "metadata": {
        "colab": {
          "base_uri": "https://localhost:8080/"
        },
        "id": "8FtnlPvZo9q0",
        "outputId": "b7dfbff7-f6a8-433b-ed0f-1f5d3737d765"
      },
      "execution_count": 18,
      "outputs": [
        {
          "output_type": "stream",
          "name": "stdout",
          "text": [
            "Class B\n"
          ]
        }
      ]
    },
    {
      "cell_type": "code",
      "source": [
        "# Retrieving MRO Programmatically :-\n",
        "# Using __mro__ Attribute :\n",
        "print(D.__mro__)\n",
        "\n"
      ],
      "metadata": {
        "colab": {
          "base_uri": "https://localhost:8080/"
        },
        "id": "0mBYGZmqpRMi",
        "outputId": "350cde96-c6f2-4dc5-e9e0-ec1b9fb51eeb"
      },
      "execution_count": 19,
      "outputs": [
        {
          "output_type": "stream",
          "name": "stdout",
          "text": [
            "(<class '__main__.D'>, <class '__main__.B'>, <class '__main__.C'>, <class '__main__.A'>, <class 'object'>)\n"
          ]
        }
      ]
    },
    {
      "cell_type": "code",
      "source": [
        "# Using mro() Method:\n",
        "print(D.mro())\n"
      ],
      "metadata": {
        "colab": {
          "base_uri": "https://localhost:8080/"
        },
        "id": "DGt8lYpIpX8u",
        "outputId": "2a321570-370c-4e18-f4db-ac5f0afa5106"
      },
      "execution_count": 20,
      "outputs": [
        {
          "output_type": "stream",
          "name": "stdout",
          "text": [
            "[<class '__main__.D'>, <class '__main__.B'>, <class '__main__.C'>, <class '__main__.A'>, <class 'object'>]\n"
          ]
        }
      ]
    },
    {
      "cell_type": "code",
      "source": [
        "# Using help() Function:\n",
        "help(D)\n"
      ],
      "metadata": {
        "colab": {
          "base_uri": "https://localhost:8080/"
        },
        "id": "zu-FqzoHpXxZ",
        "outputId": "f7b7d07e-174c-4093-8b05-13c12eb3a2ec"
      },
      "execution_count": 21,
      "outputs": [
        {
          "output_type": "stream",
          "name": "stdout",
          "text": [
            "Help on class D in module __main__:\n",
            "\n",
            "class D(B, C)\n",
            " |  Method resolution order:\n",
            " |      D\n",
            " |      B\n",
            " |      C\n",
            " |      A\n",
            " |      builtins.object\n",
            " |  \n",
            " |  Methods inherited from B:\n",
            " |  \n",
            " |  show(self)\n",
            " |  \n",
            " |  ----------------------------------------------------------------------\n",
            " |  Data descriptors inherited from A:\n",
            " |  \n",
            " |  __dict__\n",
            " |      dictionary for instance variables (if defined)\n",
            " |  \n",
            " |  __weakref__\n",
            " |      list of weak references to the object (if defined)\n",
            "\n"
          ]
        }
      ]
    },
    {
      "cell_type": "markdown",
      "source": [
        "8) Create an abstract base class `Shape` with an abstract method `area()`. Then create two subclasses\n",
        "`Circle` and `Rectangle` that implement the `area()` method?"
      ],
      "metadata": {
        "id": "0h9ibehkpzJm"
      }
    },
    {
      "cell_type": "code",
      "source": [
        "from abc import ABC, abstractmethod\n",
        "import math\n",
        "\n",
        "# Abstract base class\n",
        "class Shape(ABC):\n",
        "    @abstractmethod\n",
        "    def area(self):\n",
        "        pass\n",
        "\n",
        "# Subclass for Circle\n",
        "class Circle(Shape):\n",
        "    def __init__(self, radius):\n",
        "        self.radius = radius\n",
        "\n",
        "    def area(self):\n",
        "        return math.pi * self.radius ** 2\n",
        "\n",
        "# Subclass for Rectangle\n",
        "class Rectangle(Shape):\n",
        "    def __init__(self, width, height):\n",
        "        self.width = width\n",
        "        self.height = height\n",
        "\n",
        "    def area(self):\n",
        "        return self.width * self.height\n",
        "\n",
        "# Example usage:\n",
        "circle = Circle(5)\n",
        "print(f\"Circle Area: {circle.area():.2f}\")\n",
        "\n",
        "rectangle = Rectangle(4, 6)\n",
        "print(f\"Rectangle Area: {rectangle.area()}\")\n"
      ],
      "metadata": {
        "colab": {
          "base_uri": "https://localhost:8080/"
        },
        "id": "IFKgsfgsqEgP",
        "outputId": "6597f004-726a-4cc6-978d-597a318331e2"
      },
      "execution_count": 22,
      "outputs": [
        {
          "output_type": "stream",
          "name": "stdout",
          "text": [
            "Circle Area: 78.54\n",
            "Rectangle Area: 24\n"
          ]
        }
      ]
    },
    {
      "cell_type": "markdown",
      "source": [
        "9)  Demonstrate polymorphism by creating a function that can work with different shape objects to calculate\n",
        "and print their areas?"
      ],
      "metadata": {
        "id": "bU4KNdrOqJsa"
      }
    },
    {
      "cell_type": "code",
      "source": [
        "from abc import ABC, abstractmethod\n",
        "import math\n",
        "\n",
        "# Abstract base class\n",
        "class Shape(ABC):\n",
        "    @abstractmethod\n",
        "    def area(self):\n",
        "        pass\n",
        "\n",
        "# Subclass for Circle\n",
        "class Circle(Shape):\n",
        "    def __init__(self, radius):\n",
        "        self.radius = radius\n",
        "\n",
        "    def area(self):\n",
        "        return math.pi * self.radius ** 2\n",
        "\n",
        "# Subclass for Rectangle\n",
        "class Rectangle(Shape):\n",
        "    def __init__(self, width, height):\n",
        "        self.width = width\n",
        "        self.height = height\n",
        "\n",
        "    def area(self):\n",
        "        return self.width * self.height\n",
        "\n",
        "# Subclass for Triangle\n",
        "class Triangle(Shape):\n",
        "    def __init__(self, base, height):\n",
        "        self.base = base\n",
        "        self.height = height\n",
        "\n",
        "    def area(self):\n",
        "        return 0.5 * self.base * self.height\n",
        "\n",
        "# Function demonstrating polymorphism\n",
        "def print_area(shape):\n",
        "    print(f\"The area of the {shape.__class__.__name__} is: {shape.area():.2f}\")\n",
        "\n",
        "# Example usage:\n",
        "shapes = [Circle(5), Rectangle(4, 6), Triangle(8, 5)]\n",
        "\n",
        "for shape in shapes:\n",
        "    print_area(shape)\n"
      ],
      "metadata": {
        "colab": {
          "base_uri": "https://localhost:8080/"
        },
        "id": "lPxeEaoPqXSt",
        "outputId": "f54221f3-fed1-451f-b3c8-b34ebee5c6fa"
      },
      "execution_count": 23,
      "outputs": [
        {
          "output_type": "stream",
          "name": "stdout",
          "text": [
            "The area of the Circle is: 78.54\n",
            "The area of the Rectangle is: 24.00\n",
            "The area of the Triangle is: 20.00\n"
          ]
        }
      ]
    },
    {
      "cell_type": "markdown",
      "source": [
        "10) Implement encapsulation in a `BankAccount` class with private attributes for `balance` and `account_number`. Include methods for deposit, withdrawal, and balance inquiry?"
      ],
      "metadata": {
        "id": "3WFM6LMbqZzL"
      }
    },
    {
      "cell_type": "code",
      "source": [
        "class BankAccount:\n",
        "    def __init__(self, account_number, initial_balance=0):\n",
        "        self.__account_number = account_number  # Private attribute\n",
        "        self.__balance = initial_balance        # Private attribute\n",
        "\n",
        "    # Method to deposit money\n",
        "    def deposit(self, amount):\n",
        "        if amount > 0:\n",
        "            self.__balance += amount\n",
        "            print(f\"Deposited: ${amount:.2f}\")\n",
        "        else:\n",
        "            print(\"Invalid deposit amount!\")\n",
        "\n",
        "    # Method to withdraw money\n",
        "    def withdraw(self, amount):\n",
        "        if amount > 0:\n",
        "            if amount <= self.__balance:\n",
        "                self.__balance -= amount\n",
        "                print(f\"Withdrew: ${amount:.2f}\")\n",
        "            else:\n",
        "                print(\"Insufficient funds!\")\n",
        "        else:\n",
        "            print(\"Invalid withdrawal amount!\")\n",
        "\n",
        "    # Method to check the balance\n",
        "    def get_balance(self):\n",
        "        return f\"Current Balance: ${self.__balance:.2f}\"\n",
        "\n",
        "    # Method to get account number securely\n",
        "    def get_account_number(self):\n",
        "        return f\"Account Number: {self.__account_number}\"\n",
        "\n",
        "# Example usage:\n",
        "account = BankAccount(\"1234567890\", 500)\n",
        "print(account.get_account_number())   # Accessing private account number\n",
        "print(account.get_balance())          # Checking balance\n",
        "\n",
        "account.deposit(300)                  # Depositing money\n",
        "account.withdraw(200)                 # Withdrawing money\n",
        "account.withdraw(1000)                # Attempting to withdraw more than the balance\n",
        "\n",
        "print(account.get_balance())          # Final balance\n"
      ],
      "metadata": {
        "colab": {
          "base_uri": "https://localhost:8080/"
        },
        "id": "5-7N1WuZqfUt",
        "outputId": "272446e3-c295-48e4-e60d-e4b5243f0c3b"
      },
      "execution_count": 24,
      "outputs": [
        {
          "output_type": "stream",
          "name": "stdout",
          "text": [
            "Account Number: 1234567890\n",
            "Current Balance: $500.00\n",
            "Deposited: $300.00\n",
            "Withdrew: $200.00\n",
            "Insufficient funds!\n",
            "Current Balance: $600.00\n"
          ]
        }
      ]
    },
    {
      "cell_type": "markdown",
      "source": [
        "11) Write a class that overrides the `__str__` and `__add__` magic methods. What will these methods allow you to do?"
      ],
      "metadata": {
        "id": "poLAmCUoqqLR"
      }
    },
    {
      "cell_type": "code",
      "source": [
        "# Explanation of Overridden Methods:\n",
        "# __str__: Custom String Representation\n",
        "# Purpose: Defines how the object should be represented as a string. When Called: Automatically when print(object) or str(object) is used.\n",
        "# Benefit: Provides a human-readable format for the object.\n",
        "# __add__: Custom Addition Behavior\n",
        "# Purpose: Defines how the + operator works for objects of the class.\n",
        "# When Called: Automatically when object1 + object2 is used.\n",
        "# Benefit: Customizes arithmetic behavior for non-numeric types.\n",
        "class Book:\n",
        "    def __init__(self, title, author, pages):\n",
        "        self.title = title\n",
        "        self.author = author\n",
        "        self.pages = pages\n",
        "\n",
        "    # Override the __str__ method (string representation)\n",
        "    def __str__(self):\n",
        "        return f\"'{self.title}' by {self.author}, {self.pages} pages\"\n",
        "\n",
        "    # Override the __add__ method (addition behavior)\n",
        "    def __add__(self, other):\n",
        "        if isinstance(other, Book):\n",
        "            total_pages = self.pages + other.pages\n",
        "            return f\"Combined Total Pages: {total_pages}\"\n",
        "        return NotImplemented\n",
        "\n",
        "# Example usage:\n",
        "book1 = Book(\"1984\", \"George Orwell\", 328)\n",
        "book2 = Book(\"Brave New World\", \"Aldous Huxley\", 268)\n",
        "\n",
        "# Using the overridden methods\n",
        "print(book1)          # Calls __str__\n",
        "print(book2)          # Calls __str__\n",
        "\n",
        "# Adding two books\n",
        "print(book1 + book2)  # Calls __add__\n",
        "\n"
      ],
      "metadata": {
        "colab": {
          "base_uri": "https://localhost:8080/"
        },
        "id": "6RnX1sDNqvNa",
        "outputId": "6261cc99-ff09-439a-dbf9-8a12964eb20e"
      },
      "execution_count": 25,
      "outputs": [
        {
          "output_type": "stream",
          "name": "stdout",
          "text": [
            "'1984' by George Orwell, 328 pages\n",
            "'Brave New World' by Aldous Huxley, 268 pages\n",
            "Combined Total Pages: 596\n"
          ]
        }
      ]
    },
    {
      "cell_type": "markdown",
      "source": [
        "12) Create a decorator that measures and prints the execution time of a function?"
      ],
      "metadata": {
        "id": "auZU9xSbrTb3"
      }
    },
    {
      "cell_type": "code",
      "source": [
        "import time\n",
        "\n",
        "# Decorator function\n",
        "def timer(func):\n",
        "    def wrapper(*args, **kwargs):\n",
        "        start_time = time.perf_counter()  # Record start time\n",
        "        result = func(*args, **kwargs)   # Execute the function\n",
        "        end_time = time.perf_counter()   # Record end time\n",
        "        execution_time = end_time - start_time\n",
        "        print(f\"Execution time for {func.__name__}: {execution_time:.4f} seconds\")\n",
        "        return result\n",
        "    return wrapper\n",
        "\n",
        "# Example usage\n",
        "@timer\n",
        "def sample_function(n):\n",
        "    \"\"\"Function to simulate a time-consuming task.\"\"\"\n",
        "    total = 0\n",
        "    for i in range(n):\n",
        "        total += i ** 2\n",
        "    return total\n",
        "\n",
        "# Call the function\n",
        "result = sample_function(1000000)\n",
        "print(f\"Result: {result}\")\n"
      ],
      "metadata": {
        "colab": {
          "base_uri": "https://localhost:8080/"
        },
        "id": "BubevvcxrYTt",
        "outputId": "21ce285c-ffb3-45b1-9ddd-6bacb34a58df"
      },
      "execution_count": 26,
      "outputs": [
        {
          "output_type": "stream",
          "name": "stdout",
          "text": [
            "Execution time for sample_function: 0.8847 seconds\n",
            "Result: 333332833333500000\n"
          ]
        }
      ]
    },
    {
      "cell_type": "markdown",
      "source": [
        "13)  Explain the concept of the Diamond Problem in multiple inheritance. How does Python resolve it?"
      ],
      "metadata": {
        "id": "GWmCeErJriaP"
      }
    },
    {
      "cell_type": "code",
      "source": [
        "# How Python Resolves It: Python uses the C3 Linearization (Method Resolution Order - MRO) algorithm to resolve the diamond problem. The MRO determines the method lookup order based on the inheritance hierarchy while ensuring consistent and predictable results.\n",
        "class A:\n",
        "    def show(self):\n",
        "        print(\"Class A\")\n",
        "\n",
        "class B(A):\n",
        "    def show(self):\n",
        "        print(\"Class B\")\n",
        "\n",
        "class C(A):\n",
        "    def show(self):\n",
        "        print(\"Class C\")\n",
        "\n",
        "class D(B, C):  # Multiple inheritance\n",
        "    pass\n",
        "\n",
        "# Creating an instance of class D\n",
        "obj = D()\n",
        "obj.show()  # Which show() method will be called?\n"
      ],
      "metadata": {
        "colab": {
          "base_uri": "https://localhost:8080/"
        },
        "id": "ZFfRtIsjrmeF",
        "outputId": "15c55320-90a7-41e7-ea9c-bde2bc175483"
      },
      "execution_count": 27,
      "outputs": [
        {
          "output_type": "stream",
          "name": "stdout",
          "text": [
            "Class B\n"
          ]
        }
      ]
    },
    {
      "cell_type": "code",
      "source": [
        "print(D.mro())\n"
      ],
      "metadata": {
        "colab": {
          "base_uri": "https://localhost:8080/"
        },
        "id": "-He_4Qm9sBQK",
        "outputId": "8b687419-0521-49ed-ba63-e2ee0c7c98d4"
      },
      "execution_count": 28,
      "outputs": [
        {
          "output_type": "stream",
          "name": "stdout",
          "text": [
            "[<class '__main__.D'>, <class '__main__.B'>, <class '__main__.C'>, <class '__main__.A'>, <class 'object'>]\n"
          ]
        }
      ]
    },
    {
      "cell_type": "markdown",
      "source": [
        "14)  Write a class method that keeps track of the number of instances created from a class?"
      ],
      "metadata": {
        "id": "-ysY_pFdsNGh"
      }
    },
    {
      "cell_type": "code",
      "source": [
        "class InstanceTracker:\n",
        "    # Class attribute to track instance count\n",
        "    instance_count = 0\n",
        "\n",
        "    def __init__(self, name):\n",
        "        self.name = name\n",
        "        InstanceTracker.increment_count()\n",
        "\n",
        "    # Class method to increment instance count\n",
        "    @classmethod\n",
        "    def increment_count(cls):\n",
        "        cls.instance_count += 1\n",
        "\n",
        "    # Class method to retrieve instance count\n",
        "    @classmethod\n",
        "    def get_instance_count(cls):\n",
        "        return f\"Total instances created: {cls.instance_count}\"\n",
        "\n",
        "# Example usage\n",
        "obj1 = InstanceTracker(\"Object 1\")\n",
        "obj2 = InstanceTracker(\"Object 2\")\n",
        "obj3 = InstanceTracker(\"Object 3\")\n",
        "\n",
        "# Checking the number of instances created\n",
        "print(InstanceTracker.get_instance_count())\n"
      ],
      "metadata": {
        "colab": {
          "base_uri": "https://localhost:8080/"
        },
        "id": "eXcM74QwsXXc",
        "outputId": "7b9da045-f601-4cf4-e4ad-0c7e67ba2760"
      },
      "execution_count": 29,
      "outputs": [
        {
          "output_type": "stream",
          "name": "stdout",
          "text": [
            "Total instances created: 3\n"
          ]
        }
      ]
    },
    {
      "cell_type": "markdown",
      "source": [
        "15) Implement a static method in a class that checks if a given year is a leap year?"
      ],
      "metadata": {
        "id": "HEBXYC-AsZCZ"
      }
    },
    {
      "cell_type": "code",
      "source": [
        "class DateUtils:\n",
        "    @staticmethod\n",
        "    def is_leap_year(year):\n",
        "        \"\"\"Check if a year is a leap year.\"\"\"\n",
        "        if (year % 4 == 0 and year % 100 != 0) or (year % 400 == 0):\n",
        "            return True\n",
        "        return False\n",
        "\n",
        "# Example usage:\n",
        "year = 2024\n",
        "if DateUtils.is_leap_year(year):\n",
        "    print(f\"{year} is a leap year.\")\n",
        "else:\n",
        "    print(f\"{year} is not a leap year.\")\n"
      ],
      "metadata": {
        "colab": {
          "base_uri": "https://localhost:8080/"
        },
        "id": "ZLDLiigasdaN",
        "outputId": "a93568e8-767e-45cc-a797-b63f5b02760b"
      },
      "execution_count": 30,
      "outputs": [
        {
          "output_type": "stream",
          "name": "stdout",
          "text": [
            "2024 is a leap year.\n"
          ]
        }
      ]
    }
  ]
}